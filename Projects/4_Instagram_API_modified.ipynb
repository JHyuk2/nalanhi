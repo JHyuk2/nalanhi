{
 "cells": [
  {
   "cell_type": "markdown",
   "metadata": {},
   "source": [
    "# Instagram Graph API call"
   ]
  },
  {
   "cell_type": "markdown",
   "metadata": {},
   "source": [
    "## 1. Get Credential (w/ dotenv)\n",
    "\n",
    "To protect credential info, you have to make `.env` file  \n",
    "Here's some examples  \n",
    "\n",
    "1. INSTAGRAM_ACCESS_TOKEN\n",
    "2. INSTAGRAM_BUSINESS_ACCOUNT\n",
    "3. FB_APP_SECRET_CODE\n",
    "4. FB_CLIENT_ID"
   ]
  },
  {
   "cell_type": "code",
   "execution_count": 37,
   "metadata": {},
   "outputs": [],
   "source": [
    "import requests\n",
    "import json\n",
    "import os\n",
    "from pprint import pprint as pp\n",
    "from dotenv import load_dotenv\n",
    "\n",
    "# load .env\n",
    "load_dotenv()\n",
    "IG_ACCESS_TOKEN=os.environ.get(\"IG_ACCESS_TOKEN\")\n",
    "# FB_APP_SECRET_CODE=os.environ.get('FB_APP_SECRET_CODE')\n",
    "IG_BUSINESS_ID=os.environ.get('IG_BUSINESS_ID')\n",
    "IG_USER_NAME=os.environ.get('IG_USER_NAME')\n",
    "\n",
    "def get_creds():\n",
    "    \"\"\"\n",
    "    {'access_token': '',\n",
    "    'graph_domain': 'https://graph.facebook.com/',\n",
    "    'graph_version': 'v20.0',\n",
    "    'instagram_account_id': '',\n",
    "    'ig_username': '',\n",
    "    'endpoint_base': 'https://graph.facebook.com/v20.0/'}\n",
    "\n",
    "    \"\"\"\n",
    "    creds = dict() \n",
    "    creds['access_token'] = IG_ACCESS_TOKEN   # access token for use with all api calls\n",
    "    # creds['client_secret'] = FB_APP_SECRET_CODE  # client secret from facebook app\n",
    "    creds['graph_domain'] = 'https://graph.facebook.com/' # base domain for api calls\n",
    "    creds['graph_version'] = 'v20.0' # version of api we are hitting\n",
    "    creds['instagram_account_id'] = IG_BUSINESS_ID # user business account id\n",
    "    creds['ig_username'] = IG_USER_NAME\n",
    "    # with domain and version\n",
    "    creds['endpoint_base'] = creds['graph_domain'] + creds['graph_version'] + '/' # base endpoint\n",
    "    \n",
    "    return creds"
   ]
  },
  {
   "cell_type": "code",
   "execution_count": 170,
   "metadata": {},
   "outputs": [
    {
     "data": {
      "text/plain": [
       "{'access_token': 'EAAMZCN23AZACwBOzTLIZCIlNokpsJ8aN5fH9torpU9hQMj44bL9I4uZBHPxlDFX5mQ1uL9E9DwGd1yfEOl2hbKSeGP2nt2QGD2k2jkGTdLtc5JWfNtrar1FSmtBRwx1SMIBdbxH0qoW2fHJrJTzWHpWVax3dSYAUF1Fhi2ZCfCG0GberWhXCs5kV7',\n",
       " 'graph_domain': 'https://graph.facebook.com/',\n",
       " 'graph_version': 'v20.0',\n",
       " 'instagram_account_id': '17841467510518283',\n",
       " 'ig_username': 'analyst_hyuk',\n",
       " 'endpoint_base': 'https://graph.facebook.com/v20.0/'}"
      ]
     },
     "execution_count": 170,
     "metadata": {},
     "output_type": "execute_result"
    }
   ],
   "source": [
    "params = get_creds()\n",
    "params"
   ]
  },
  {
   "cell_type": "markdown",
   "metadata": {},
   "source": [
    "## 2. Create Media Object Response & Publish Media"
   ]
  },
  {
   "cell_type": "markdown",
   "metadata": {},
   "source": [
    "### (Optional) Create Carousel post\n",
    "\n",
    "Steps required for making a carousel post are.  \n",
    "1. Upload every images or video you want to make a carousel of one by one and store the container_id in a list.  \n",
    "2. Make another container that contains the container_id list.  \n",
    "3. Publish the container.  "
   ]
  },
  {
   "cell_type": "code",
   "execution_count": null,
   "metadata": {},
   "outputs": [],
   "source": [
    "import requests\n",
    "\n",
    "def create_media(params, include_caption=True, include_children=False):\n",
    "    \"\"\"Create media container object\n",
    "\n",
    "    API Endpoint:\n",
    "    - For image\n",
    "        https://graph.facebook.com/v20.0/{ig-user-id}/media?image_url={image-url}&caption={caption}&access_token={access_token}\n",
    "    - For video\n",
    "        https://graph.facebook.com/v20.0/{ig-user-id}/media?media_type=VIDEO&video_url={video-url}&caption={caption}&access_token={access_token}\n",
    "    - For Carousel\n",
    "        https://graph.facebook.com/v20.0/{ig-user-id}/media?media_type=CAROUSEL&children={children}&caption={caption}&access_token={access_token}\n",
    "\n",
    "    Returns:\n",
    "        json object: {id : media_container_object_id}\n",
    "    \"\"\"\n",
    "\n",
    "    url = params['endpoint_base'] + params['instagram_account_id'] + '/media'\n",
    "    \n",
    "    endpointParams = {\n",
    "        'access_token': params['access_token']\n",
    "    }\n",
    "\n",
    "    if params['media_type'] == 'IMAGE':\n",
    "        endpointParams['image_url'] = params['media_url']\n",
    "    \n",
    "    elif params['media_type'] == 'VIDEO':\n",
    "        endpointParams['video_url'] = params['media_url']\n",
    "        endpointParams['media_type'] = params['media_type']\n",
    "    \n",
    "    # media_type == 'CAROUSEL'\n",
    "    else:\n",
    "        endpointParams['media_type'] = params['media_type']\n",
    "\n",
    "    # for single media post\n",
    "    if include_caption:\n",
    "        endpointParams['caption'] = params['caption']\n",
    "        \n",
    "    # for carousel.\n",
    "    if include_children:\n",
    "        endpointParams['children'] = params['children']\n",
    "        response = requests.post(url, json=endpointParams)\n",
    "        return response.json()\n",
    "\n",
    "    response = requests.post(url, data=endpointParams)\n",
    "    return response.json()\n",
    "\n",
    "def create_single_media(params):\n",
    "    \"\"\"Create `single media` container object\"\"\"\n",
    "    return create_media(params, include_caption=True)\n",
    "\n",
    "def create_multi_media(params):\n",
    "    \"\"\"Create `multi media` container object\"\"\"\n",
    "    return create_media(params, include_caption=False)\n",
    "\n",
    "def create_slide_object(params):\n",
    "    \"\"\"Create `slide media` container object\"\"\"\n",
    "    return create_media(params, include_caption=True, include_children=True)\n",
    "\n",
    "def publish_media(media_object_id, params):\n",
    "    \"\"\" Publish `media container` object\n",
    "    \n",
    "    API Endpoint:\n",
    "        https://graph.facebook.com/\n",
    "        v20.0/{ig-user-id}/media_publish?creation_id={creation-id}&access_token={access_token}\n",
    "\n",
    "    Returns:\n",
    "        json object: {id: media_id}\n",
    "    \"\"\"\n",
    "\n",
    "    url = params['endpoint_base'] + params['instagram_account_id'] + '/media_publish'\n",
    "\n",
    "    endpointParams = dict()\n",
    "    endpointParams['creation_id'] = media_object_id\n",
    "    endpointParams['access_token'] = params['access_token']\n",
    "\n",
    "    response = requests.post(url, data=endpointParams)\n",
    "    \n",
    "    print(\"\\n---- MEDIA OBJECT PUBLISHED ---- \\n\")\n",
    "    print(\"\\tID:\") # label\n",
    "    print(\"\\t\" + response.json()['id']) # id of the object\n",
    "\n",
    "    return response.json()\n"
   ]
  },
  {
   "cell_type": "code",
   "execution_count": null,
   "metadata": {},
   "outputs": [],
   "source": [
    "def post_media(queue:pd.DataFrame):\n",
    "    \"\"\" Run post process\n",
    "\n",
    "    Sequence\n",
    "        1. read_csv ('queue.csv')\n",
    "        2. post to instagram - with using 1st record\n",
    "        3. return csv\n",
    "            - len(queue) >= 1 (pop first record and return remains)\n",
    "            - len(queue) == 0 (return blank queue)\n",
    "    \"\"\"\n",
    "\n",
    "    # queue의 데이터가 있으면 진행\n",
    "    if len(queue):\n",
    "        data = queue.iloc[0]\n",
    "\n",
    "        params = get_creds()\n",
    "        params['caption'] = data['caption']\n",
    "\n",
    "        # single_media upload\n",
    "        if (len(data['media_url']) == 1):\n",
    "            params['media_url'], params['media_type'] = data['media_url'][0]\n",
    "            media_container = create_single_media(params)\n",
    "\n",
    "        # multi_media upload\n",
    "        else:\n",
    "            print('here')\n",
    "            media_id_list = []\n",
    "\n",
    "            # media container 생성 - 최대 10개까지만 업로드 가능\n",
    "            for (media_url, media_type) in data['media_url'][:10]:\n",
    "                params['media_type'] = media_type\n",
    "                params['media_url'] = media_url\n",
    "                temp_media_container = create_multi_media(params)\n",
    "                media_id_list.append(temp_media_container['id'])\n",
    "                \n",
    "            # carousel로 넘기기\n",
    "            params['media_type'] = 'CAROUSEL'\n",
    "            params['children'] = media_id_list\n",
    "            media_container = create_slide_object(params)\n",
    "        \n",
    "        # published 된 경우 object published 출력\n",
    "        publish_media(media_container['id'], params) \n",
    "        \n",
    "        # post comment (Question)\n",
    "        # 글 생성과 동시에 Question 생성하는 경우\n",
    "        pass\n",
    "\n",
    "        # post reply to comment (Answer)\n",
    "        # 글 생성과 동시에 Q&A 까지 함께 진행하는 경우\n",
    "        pass\n",
    "\n",
    "        # 작업 종료 후, 맨 위에서 하나 빼고 csv저장\n",
    "        queue = queue.drop(index=0).reset_index(drop=True)  # 0번 인덱스 드랍\n",
    "        queue.to_csv('queue.csv', encoding='utf-8', index=False) # 값 저장.\n",
    "        print(f'\\tRemain records: {len(queue)}')\n",
    "        return \n",
    "    \n",
    "    # queue에 데이터가 없으면 바로 종료\n",
    "    else:\n",
    "        print(\"\\n---- Sorry, Check file plz :D ---- \\n\")\n",
    "        print(f'\\tNothing to post in `queue.csv`')\n",
    "        return\n"
   ]
  },
  {
   "cell_type": "markdown",
   "metadata": {},
   "source": [
    "### 샘플 인풋 데이터 생성 (`queue.csv`)\n",
    "- queue['media_url'] 형식 (url, media_type) 으로 변경"
   ]
  },
  {
   "cell_type": "code",
   "execution_count": 1,
   "metadata": {},
   "outputs": [],
   "source": [
    "import pandas as pd\n",
    "\n",
    "# Create sample data\n",
    "df = pd.DataFrame(columns=['upload_time', 'media_url', 'caption', 'Q_comment', 'A_reply'])\n",
    "urls = [('https://octapi.lxzin.com/interior/vImgFileSeq/202210/11/8ede80a1-1d0c-4839-bcc3-97bd4f357ecd.jpg', 'IMAGE'),('https://octapi.lxzin.com/interior/vImgFileSeq/202210/11/8ede80a1-1d0c-4839-bcc3-97bd4f357ecd.jpg', 'IMAGE')]\n",
    "temp_str = '\\n'*20\n",
    "\n",
    "# carousel (multi-data)\n",
    "data_multi = pd.DataFrame({\n",
    "    'upload_time': [None],\n",
    "    'media_url': [urls],\n",
    "    'caption' : ['multi_media_test'],\n",
    "    'Q_comment': ['문제를 맞춰봅시다 ^&^'],\n",
    "    'A_reply' : [f'정답을 알아봐요! {temp_str} O~X~']})\n",
    "\n",
    "# single media\n",
    "single_url = [('https://octapi.lxzin.com/interior/vImgFileSeq/202210/11/8ede80a1-1d0c-4839-bcc3-97bd4f357ecd.jpg', 'IMAGE')]\n",
    "data_single = pd.DataFrame({\n",
    "    'upload_time': [None],\n",
    "    'media_url': [single_url], # (url, media_type)\n",
    "    'caption' : ['single_media_test'],\n",
    "    'Q_comment': ['no_comments'],\n",
    "    'A_reply' : [None]})\n",
    "\n",
    "queue_df = pd.concat([data_multi, data_single], axis=0, ignore_index=True)\n",
    "queue_df.to_csv('queue.csv', encoding='utf-8', index=False)\n"
   ]
  },
  {
   "cell_type": "code",
   "execution_count": 2,
   "metadata": {},
   "outputs": [
    {
     "data": {
      "text/html": [
       "<div>\n",
       "<style scoped>\n",
       "    .dataframe tbody tr th:only-of-type {\n",
       "        vertical-align: middle;\n",
       "    }\n",
       "\n",
       "    .dataframe tbody tr th {\n",
       "        vertical-align: top;\n",
       "    }\n",
       "\n",
       "    .dataframe thead th {\n",
       "        text-align: right;\n",
       "    }\n",
       "</style>\n",
       "<table border=\"1\" class=\"dataframe\">\n",
       "  <thead>\n",
       "    <tr style=\"text-align: right;\">\n",
       "      <th></th>\n",
       "      <th>upload_time</th>\n",
       "      <th>media_url</th>\n",
       "      <th>caption</th>\n",
       "      <th>Q_comment</th>\n",
       "      <th>A_reply</th>\n",
       "    </tr>\n",
       "  </thead>\n",
       "  <tbody>\n",
       "    <tr>\n",
       "      <th>0</th>\n",
       "      <td>NaN</td>\n",
       "      <td>[(https://octapi.lxzin.com/interior/vImgFileSe...</td>\n",
       "      <td>multi_media_test</td>\n",
       "      <td>문제를 맞춰봅시다 ^&amp;^</td>\n",
       "      <td>정답을 알아봐요! \\n\\n\\n\\n\\n\\n\\n\\n\\n\\n\\n\\n\\n\\n\\n\\n\\n\\n...</td>\n",
       "    </tr>\n",
       "    <tr>\n",
       "      <th>1</th>\n",
       "      <td>NaN</td>\n",
       "      <td>[(https://octapi.lxzin.com/interior/vImgFileSe...</td>\n",
       "      <td>single_media_test</td>\n",
       "      <td>no_comments</td>\n",
       "      <td>NaN</td>\n",
       "    </tr>\n",
       "  </tbody>\n",
       "</table>\n",
       "</div>"
      ],
      "text/plain": [
       "   upload_time                                          media_url  \\\n",
       "0          NaN  [(https://octapi.lxzin.com/interior/vImgFileSe...   \n",
       "1          NaN  [(https://octapi.lxzin.com/interior/vImgFileSe...   \n",
       "\n",
       "             caption      Q_comment  \\\n",
       "0   multi_media_test  문제를 맞춰봅시다 ^&^   \n",
       "1  single_media_test    no_comments   \n",
       "\n",
       "                                             A_reply  \n",
       "0  정답을 알아봐요! \\n\\n\\n\\n\\n\\n\\n\\n\\n\\n\\n\\n\\n\\n\\n\\n\\n\\n...  \n",
       "1                                                NaN  "
      ]
     },
     "execution_count": 2,
     "metadata": {},
     "output_type": "execute_result"
    }
   ],
   "source": [
    "# 데이터 불러오기\n",
    "import ast\n",
    "queue = pd.read_csv('queue.csv', encoding='utf-8', converters={'media_url' : ast.literal_eval}) \n",
    "queue"
   ]
  },
  {
   "cell_type": "code",
   "execution_count": 237,
   "metadata": {},
   "outputs": [
    {
     "name": "stdout",
     "output_type": "stream",
     "text": [
      "\n",
      "---- Sorry, Check file plz :D ---- \n",
      "\n",
      "\tNothing to post in `queue.csv`\n"
     ]
    }
   ],
   "source": [
    "# queue.csv를 읽은 후, df상태로 넣어주면 자동 처리.\n",
    "post_media(queue)"
   ]
  },
  {
   "cell_type": "markdown",
   "metadata": {},
   "source": [
    "#### Example Post"
   ]
  },
  {
   "cell_type": "code",
   "execution_count": 73,
   "metadata": {},
   "outputs": [
    {
     "data": {
      "text/plain": [
       "{'id': '17893437330046479'}"
      ]
     },
     "execution_count": 73,
     "metadata": {},
     "output_type": "execute_result"
    }
   ],
   "source": [
    "# # Create Image Media Post\n",
    "# params=get_creds()\n",
    "# params['media_type'] = 'IMAGE' # 2types in input('image', 'video')\n",
    "# params['media_url'] = 'https://t2.daumcdn.net/thumb/R720x0/?fname=http://t1.daumcdn.net/brunch/service/user/2fG8/image/GUbIfYW-1qfxrzemAv6EHv8XP6M.jpg'\n",
    "\n",
    "# image_media_object_1 = create_multi_media(params)\n",
    "# image_media_object_1"
   ]
  },
  {
   "cell_type": "code",
   "execution_count": 69,
   "metadata": {},
   "outputs": [],
   "source": [
    "# # Create Image Media Post\n",
    "# params=get_creds()\n",
    "# params['media_type'] = 'IMAGE' # 2types in input('image', 'video')\n",
    "# params['media_url'] = 'https://octapi.lxzin.com/interior/vImgFileSeq/202210/11/8ede80a1-1d0c-4839-bcc3-97bd4f357ecd.jpg'\n",
    "\n",
    "# image_media_object_2 = create_multi_media(params)"
   ]
  },
  {
   "cell_type": "code",
   "execution_count": 39,
   "metadata": {},
   "outputs": [],
   "source": [
    "# def create_slide_object(params):\n",
    "#     \"\"\"Create media `Container` object\n",
    "    \n",
    "#     API Endpoint:\n",
    "#     - For image\n",
    "#         https://graph.facebook.com/\n",
    "#         v20.0/{ig-user-id}/media?image_url={image-url}&caption={caption}&access_token={access_token}\n",
    "    \n",
    "#     - For video\n",
    "#         https://graph.facebook.com/\n",
    "#         v20.0/{ig-user-id}/media?video_url={video-url}&caption={caption}&access_token={access_token}\n",
    "\n",
    "#     Returns:\n",
    "#         json object: {id : media_container_object_id}\n",
    "#     \"\"\"\n",
    "\n",
    "#     url = params['endpoint_base'] + params['instagram_account_id'] + '/media'\n",
    "\n",
    "#     endpointParams = dict()\n",
    "#     endpointParams['media_type'] = params['media_type']\n",
    "#     endpointParams['caption'] = params['caption']\n",
    "#     endpointParams['children'] = params['children']\n",
    "#     endpointParams['access_token'] = params['access_token']\n",
    "    \n",
    "#     response = requests.post(url, json=endpointParams)\n",
    "\n",
    "#     return response.json()"
   ]
  },
  {
   "cell_type": "code",
   "execution_count": 75,
   "metadata": {},
   "outputs": [
    {
     "data": {
      "text/plain": [
       "{'id': '18032762555297091'}"
      ]
     },
     "execution_count": 75,
     "metadata": {},
     "output_type": "execute_result"
    }
   ],
   "source": [
    "# # Create Image Media Post\n",
    "# params=get_creds()\n",
    "# params['media_type'] = 'CAROUSEL' # 2types in input('image', 'video')\n",
    "# params['caption'] = 'MY CATS'\n",
    "# params['children'] = [image_media_object_1['id'], image_media_object_2['id']]\n",
    "\n",
    "# image_media_object_carousel = create_slide_object(params)\n",
    "# image_media_object_carousel"
   ]
  },
  {
   "cell_type": "markdown",
   "metadata": {},
   "source": [
    "## 3. Get User Media & Comments"
   ]
  },
  {
   "cell_type": "code",
   "execution_count": 14,
   "metadata": {},
   "outputs": [],
   "source": [
    "def get_user_media(params):\n",
    "    \"\"\" Get User Media id\n",
    "    \n",
    "    API Endpoint:\n",
    "        https://graph.facebook.com/\n",
    "        v20.0/{ig-user-id}?fields=media&access_token={access_token}\n",
    "\n",
    "    Returns:\n",
    "        json object:\n",
    "    \n",
    "        {'data' : [{id : {media_id_1},\n",
    "                    id : {media_id_2},\n",
    "                    id : {media_id_3},]}\n",
    "    \"\"\"\n",
    "    \n",
    "    url = params['endpoint_base'] + params['instagram_account_id'] + '/media'\n",
    "    \n",
    "    endpointParams = dict()\n",
    "    endpointParams['access_token'] = params['access_token']\n",
    "    endpointParams['fields'] = 'media'\n",
    "    response = requests.get(url, endpointParams)\n",
    "    return response.json()\n",
    "\n",
    "def get_media_comments(media_id, params):\n",
    "    \"\"\"  Get media comments\n",
    "\n",
    "    API Endpoint:\n",
    "        https://graph.facebook.com/\n",
    "        v20.0/{media_id}/comments?access_token={access_token}\n",
    "    \n",
    "    Returns:\n",
    "        json object:\n",
    "\n",
    "        {'data' : [{'timestamp': {created_time},\n",
    "                    'text': {comment_text_1},\n",
    "                    'id' : {comment_id_1}},\n",
    "\n",
    "                    {'timestamp': {created_time},\n",
    "                    'text': {comment_text_2},\n",
    "                    'id': {comment_id_2}}]}\n",
    "    \"\"\"\n",
    "    url = params['endpoint_base'] + media_id + '/comments?'\n",
    "    endpointParams = dict()\n",
    "    endpointParams['access_token'] = params['access_token']\n",
    "\n",
    "    response = requests.get(url, endpointParams)\n",
    "    return response.json()"
   ]
  },
  {
   "cell_type": "code",
   "execution_count": 15,
   "metadata": {},
   "outputs": [
    {
     "name": "stdout",
     "output_type": "stream",
     "text": [
      "[{'data': []},\n",
      " {'data': [{'id': '17915879570957592',\n",
      "            'text': '안녕하세요',\n",
      "            'timestamp': '2024-07-18T10:31:38+0000'}]},\n",
      " {'data': []},\n",
      " {'data': []},\n",
      " {'data': []},\n",
      " {'data': []},\n",
      " {'data': []},\n",
      " {'data': []},\n",
      " {'data': [{'id': '17874199341067145',\n",
      "            'text': '멋져요! 누구인가요?',\n",
      "            'timestamp': '2024-07-18T04:54:02+0000'}]},\n",
      " {'data': [{'id': '17912313272967135',\n",
      "            'text': '귀여운 고영희 !',\n",
      "            'timestamp': '2024-07-18T04:21:19+0000'}]},\n",
      " {'data': []}]\n"
     ]
    }
   ],
   "source": [
    "from pprint import pprint as pp\n",
    "\n",
    "my_media = get_user_media(params)\n",
    "\n",
    "# get all media comments\n",
    "comments_data = []\n",
    "\n",
    "for data in my_media['data']:\n",
    "    temp_media_id = data['id']\n",
    "    comments_data.append(get_media_comments(temp_media_id, params))\n",
    "\n",
    "pp(comments_data)"
   ]
  },
  {
   "cell_type": "code",
   "execution_count": 17,
   "metadata": {},
   "outputs": [
    {
     "data": {
      "text/plain": [
       "['17915879570957592', '17874199341067145', '17912313272967135']"
      ]
     },
     "execution_count": 17,
     "metadata": {},
     "output_type": "execute_result"
    }
   ],
   "source": [
    "comments_id = []\n",
    "\n",
    "for media_comments in comments_data:\n",
    "    for comment in media_comments['data']:\n",
    "        comments_id.append(comment['id'])\n",
    "    \n",
    "comments_id"
   ]
  },
  {
   "cell_type": "markdown",
   "metadata": {},
   "source": [
    "## 4. Post Reply for `comment`"
   ]
  },
  {
   "cell_type": "markdown",
   "metadata": {},
   "source": [
    "### Reply Sequence\n",
    "- 1. Get replies in comment\n",
    "- 2. Check - Is it already replied?\n",
    "  - If yes) Is the last response was created by media creator? \n",
    "- 3. Get all texts in replies (Optional - TBD)\n",
    "- 4. Create reply response (w/ LLM)\n",
    "- 5. Post reply to a comment"
   ]
  },
  {
   "cell_type": "code",
   "execution_count": 46,
   "metadata": {},
   "outputs": [],
   "source": [
    "def get_comment_replies(comment_id, params):\n",
    "    \"\"\"Create reply for comment\n",
    "    \n",
    "    API Endpoint:\n",
    "        https://graph.facebook.com/\n",
    "        v20.0/{ig_comment_id}/replies?fields={fields}&access_token={access-token}\n",
    "    \n",
    "    Returns:\n",
    "        json object: the replies are `stacked-shaped`(LIFO)\n",
    "        \n",
    "        {'data': [{'id': {replied_id_2},\n",
    "                'text': {replied_text_2}\n",
    "                'username': {ig_username},\n",
    "\n",
    "                {'id', {replied_id_1},\n",
    "                'text': {replied_text_1},\n",
    "                'username': {ig_username}\n",
    "                ]}\n",
    "    \"\"\"\n",
    "\n",
    "    url = params['endpoint_base'] + comment_id + '/replies'\n",
    "    endpointParams = dict()\n",
    "    endpointParams['access_token'] = params['access_token']\n",
    "    endpointParams['fields'] = 'id, text, username'\n",
    "    response = requests.get(url, endpointParams)\n",
    "    return response.json()"
   ]
  },
  {
   "cell_type": "code",
   "execution_count": 51,
   "metadata": {},
   "outputs": [],
   "source": [
    "def is_replied(replies, params):\n",
    "    \"\"\"Check if last response's username is creator's name\n",
    "\n",
    "    Returns:\n",
    "        True or False\n",
    "    \"\"\"\n",
    "    if len(replies['data']):\n",
    "        return True if replies['data'][0]['username'] == params['ig_username'] else False"
   ]
  },
  {
   "cell_type": "code",
   "execution_count": 58,
   "metadata": {},
   "outputs": [
    {
     "name": "stdout",
     "output_type": "stream",
     "text": [
      "{'data': [{'id': '17997719987643254', 'text': '태그 없이도 답글이 가능할까?', 'username': 'analyst_hyuk'}, {'id': '17970962732744635', 'text': 'This reply was created through API call', 'username': 'analyst_hyuk'}]}\n",
      "True\n"
     ]
    }
   ],
   "source": [
    "print(temp_replies)\n",
    "print(is_replied(temp_replies, params))"
   ]
  },
  {
   "cell_type": "code",
   "execution_count": 60,
   "metadata": {},
   "outputs": [],
   "source": [
    "def get_reply_texts(replies, params):\n",
    "    \"\"\"\n",
    "        일단 그냥 LLM에 넣어보고 잘 돌아가면 pass,\n",
    "        - 필요할 경우 이후 작성\n",
    "    \"\"\"\n",
    "    pass"
   ]
  },
  {
   "cell_type": "code",
   "execution_count": 33,
   "metadata": {},
   "outputs": [],
   "source": [
    "def post_reply_to_comment(comment_id, params):\n",
    "    \"\"\" Post reply to a comment\n",
    "\n",
    "    API Endpoint:\n",
    "        https://graph.facebook.com/\n",
    "        v20.0/{ig_comment_id}/replies&access_token={access-token}\n",
    "\n",
    "    Returns:\n",
    "        Status Code <Response>\n",
    "        - 200 : OK\n",
    "        - 400 : Not supported input form\n",
    "    \"\"\"\n",
    "    \n",
    "    url = params['endpoint_base'] + comment_id + '/replies'\n",
    "\n",
    "    endpointParams = dict()\n",
    "    endpointParams['message'] = params['reply_message']\n",
    "    endpointParams['access_token'] = params['access_token']\n",
    "    response = requests.post(url, data=endpointParams)\n",
    "    return response"
   ]
  },
  {
   "cell_type": "code",
   "execution_count": 77,
   "metadata": {},
   "outputs": [],
   "source": [
    "params['reply_message'] = \"This reply was created through API call\"\n",
    "\n",
    "# post_response = post_reply_to_comment(comments_id[0], params)"
   ]
  },
  {
   "cell_type": "code",
   "execution_count": 61,
   "metadata": {},
   "outputs": [
    {
     "data": {
      "text/plain": [
       "'\\nhttps://medium.com/@maanideeprkummiitha/a-beginners-guide-to-interacting-with-instagram-using-python-and-the-graph-api-8fe7956fcc   # create api function tutorial\\n\\nhttps://velog.io/@shi9476/Instagram-API-%EC%97%B0%EB%8F%99               # 참고자료 1 - long live token 자동재발급\\n\\nhttps://developers.facebook.com/docs/instagram-platform/instagram-graph-api/content-publishing#----------            # publishing\\n\\nhttps://developers.facebook.com/docs/instagram-platform/instagram-graph-api/reference/ig-user/media_publish         # replied comment\\n\\nhttps://developers.facebook.com/docs/instagram-platform/instagram-graph-api/comment-moderation'"
      ]
     },
     "execution_count": 61,
     "metadata": {},
     "output_type": "execute_result"
    }
   ],
   "source": [
    "# 참고문서\n",
    "\"\"\"\n",
    "https://developers.facebook.com/docs/instagram-platform/instagram-graph-api/content-publishing#----------            # publishing\n",
    "\n",
    "https://developers.facebook.com/docs/instagram-platform/instagram-graph-api/reference/ig-user/media_publish         # replied comment\n",
    "\n",
    "https://velog.io/@shi9476/Instagram-API-%EC%97%B0%EB%8F%99               # 참고자료 1 - long live token 자동재발급\n",
    "\n",
    "https://medium.com/@maanideeprkummiitha/a-beginners-guide-to-interacting-with-instagram-using-python-and-the-graph-api-8fe7956fcc   # create api function tutorial\n",
    "\n",
    "https://developers.facebook.com/docs/instagram-platform/instagram-graph-api/comment-moderation\"\"\" # 댓글에 답글 작성\n"
   ]
  },
  {
   "cell_type": "code",
   "execution_count": 22,
   "metadata": {},
   "outputs": [],
   "source": [
    "def post_comment(media_id, params):\n",
    "    \"\"\"Post comment to media\n",
    "    \n",
    "    API Endpoint:\n",
    "        https://graph.facebook.com/\n",
    "        v20.0/{ig_comment_id}/comments?message={message}&access_token={access_token}\n",
    "\n",
    "\n",
    "    \"\"\"\n",
    "    url= params['endpoint_base'] + media_id + '/comments'\n",
    "    endpointParams= dict()\n",
    "    endpointParams['message']= params['message']\n",
    "    endpointParams['access_token']= params['access_token']\n",
    "    \n",
    "    response= requests.post(url, data= endpointParams)\n",
    "    \n",
    "    return response.json()"
   ]
  },
  {
   "cell_type": "code",
   "execution_count": 23,
   "metadata": {},
   "outputs": [],
   "source": [
    "params['message']= '맞팔해요 ^&^'\n",
    "\n",
    "post_response= post_comment(temp_media_id, params)"
   ]
  },
  {
   "cell_type": "code",
   "execution_count": null,
   "metadata": {},
   "outputs": [],
   "source": []
  }
 ],
 "metadata": {
  "kernelspec": {
   "display_name": "Python 3",
   "language": "python",
   "name": "python3"
  },
  "language_info": {
   "codemirror_mode": {
    "name": "ipython",
    "version": 3
   },
   "file_extension": ".py",
   "mimetype": "text/x-python",
   "name": "python",
   "nbconvert_exporter": "python",
   "pygments_lexer": "ipython3",
   "version": "3.11.7"
  }
 },
 "nbformat": 4,
 "nbformat_minor": 2
}
