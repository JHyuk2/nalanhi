{
 "cells": [
  {
   "cell_type": "markdown",
   "metadata": {},
   "source": [
    "# 1. 데이터 불러오기\n",
    "사용하는 데이터는 2가지 형식이다.  \n",
    "- 1. PDF(`.pdf`)\n",
    "- 2. PPT(`.pptx`)"
   ]
  },
  {
   "cell_type": "markdown",
   "metadata": {},
   "source": [
    "## 1-1. PDF reader\n",
    "\n",
    "PDF 파일을 읽어주는 라이브러리는 크게 세 가지(`PyPDF2, PyMuPDF, PdfPlumber`)가 있다.  \n",
    "하나를 선택해서 사용하기보단, 길이가 가장 긴 라이브러리를 사용해 텍스트를 추출 후  \n",
    "데이터 전처리 및 후처리를 거쳐 깔끔한 문장으로 구성된 텍스트 데이터(`.txt`)를 생성한다."
   ]
  },
  {
   "cell_type": "code",
   "execution_count": 5,
   "metadata": {},
   "outputs": [],
   "source": [
    "\"\"\"\n",
    "Requirements: pip install pypdf2 pymupdf pdfplumber\n",
    "\"\"\"\n",
    "\n",
    "import PyPDF2 # PyPDF2\n",
    "import fitz  # PyMuPDF\n",
    "import pdfplumber # python-pdfplumber\n",
    "\n",
    "\n",
    "def read_pdf(file_path):\n",
    "    pypdf_reader = PyPDF2.PdfReader(file_path)\n",
    "    fitz_reader = fitz.open(file_path)\n",
    "    pdfplumber_reader  = pdfplumber.open(file_path)\n",
    "\n",
    "    # 길이 비교를 위한 리스트\n",
    "    text_list = []\n",
    "\n",
    "    # 1) pypdf reader\n",
    "    text = ''\n",
    "    for page in pypdf_reader.pages:\n",
    "        text += page.extract_text()\n",
    "    text_list.append(text)\n",
    "\n",
    "    # 2) pymupdf\n",
    "    text = ''\n",
    "    for page_num in range(len(fitz_reader)):\n",
    "        page = fitz_reader.load_page(page_num)\n",
    "        text += page.get_text()\n",
    "    text_list.append(text)\n",
    "\n",
    "    # 3) pdfplumber\n",
    "    text = ''\n",
    "    for page in pdfplumber_reader.pages:\n",
    "        text += page.extract_text()\n",
    "    text_list.append(text)\n",
    "\n",
    "    # 길이비교 후 가장 긴 텍스트를 결과값으로 반환\n",
    "    length_list = [len(text) for text in text_list]\n",
    "    max_idx = length_list.index(max(length_list))\n",
    "    \n",
    "    # 메모리 누수 방지(파일 닫기\n",
    "    fitz_reader.close()\n",
    "    pdfplumber_reader.close()\n",
    "\n",
    "    # print(length_list, max_idx) # 길이를 보고싶을 땐 출력\n",
    "    return text_list[max_idx]"
   ]
  },
  {
   "cell_type": "markdown",
   "metadata": {},
   "source": [
    "## 1-2. PPTX reader\n",
    "`pdf, pptx` 두 가지 파일이 모두 존재하는 경우, 비교를 통해 더 텍스트 추출이 잘 된 것을 사용한다."
   ]
  },
  {
   "cell_type": "code",
   "execution_count": 22,
   "metadata": {},
   "outputs": [],
   "source": [
    "\"\"\"\n",
    "Requirements: pip install python-pptx\n",
    "\"\"\"\n",
    "\n",
    "from pptx import Presentation\n",
    "import pandas as pd\n",
    "\n",
    "\n",
    "# extract text from slide\n",
    "def extract_text_from_slide(slide):\n",
    "    text = \"\"\n",
    "    for shape in slide.shapes:\n",
    "        if hasattr(shape, \"text_frame\") and shape.text_frame:\n",
    "            for paragraph in shape.text_frame.paragraphs:\n",
    "                for run in paragraph.runs:\n",
    "                    text += run.text + \" \"\n",
    "    return text.strip()\n",
    "\n",
    "def read_ppt(file_path):\n",
    "    text = ''\n",
    "    prs = Presentation(file_path)\n",
    "    for slide in prs.slides:\n",
    "        text += extract_text_from_slide(slide) + '\\n'\n",
    "    return text"
   ]
  },
  {
   "cell_type": "markdown",
   "metadata": {},
   "source": [
    "## 돌아가는 코드"
   ]
  },
  {
   "cell_type": "code",
   "execution_count": 23,
   "metadata": {},
   "outputs": [],
   "source": [
    "# 기본경로\n",
    "import os\n",
    "directory = \"./dataset/\"\n",
    "files = os.listdir(directory)\n",
    "\n",
    "# 모든 pdf, pptx 불러오기\n",
    "pdf_files = [file for file in files if file.endswith('.pdf')]\n",
    "pptx_files = [file for file in files if file.endswith('pptx')]\n",
    "pdf_files_name = list(map(lambda x:x[:-4], pdf_files))\n",
    "ppt_files_name = list(map(lambda x:x[:-5], pptx_files))\n",
    "\n",
    "# pdf기반으로 살펴보되, pptx가 존재하면 ppt도 읽기\n",
    "for file_name in pdf_files_name:\n",
    "    file_path = directory + file_name\n",
    "    read_text = read_pdf(f'{file_path}.pdf')\n",
    "\n",
    "    # ppt file의 문서 길이가 더 긴 경우, ppt 읽기\n",
    "    if file_name in ppt_files_name:\n",
    "        ppt_text = read_ppt(f'{file_path}.pptx')\n",
    "        if len(ppt_text) > len(read_text):\n",
    "            read_text = ppt_text\n",
    "\n",
    "    # dataset 폴더에 텍스트({name}.txt)파일 저장        \n",
    "    with open(f\"{directory}{file_name}.txt\", \"w\", encoding='utf-8') as f:\n",
    "        f.write(read_text)"
   ]
  }
 ],
 "metadata": {
  "kernelspec": {
   "display_name": "Python 3",
   "language": "python",
   "name": "python3"
  },
  "language_info": {
   "codemirror_mode": {
    "name": "ipython",
    "version": 3
   },
   "file_extension": ".py",
   "mimetype": "text/x-python",
   "name": "python",
   "nbconvert_exporter": "python",
   "pygments_lexer": "ipython3",
   "version": "3.11.7"
  }
 },
 "nbformat": 4,
 "nbformat_minor": 2
}
